{
 "cells": [
  {
   "cell_type": "markdown",
   "metadata": {
    "deletable": true,
    "editable": true
   },
   "source": [
    "## Variation of origin-test-reader"
   ]
  },
  {
   "cell_type": "code",
   "execution_count": 1,
   "metadata": {
    "collapsed": false,
    "deletable": true,
    "editable": true
   },
   "outputs": [
    {
     "name": "stdout",
     "output_type": "stream",
     "text": [
      "C:\\Users\\Rb\\LabSoftware\\Origin\\lib\n"
     ]
    }
   ],
   "source": [
    "#!/usr/bin/env python\n",
    "\n",
    "import sys\n",
    "import os\n",
    "import random\n",
    "import time\n",
    "import zmq\n",
    "import json\n",
    "import numpy\n",
    "import matplotlib.pyplot as plt\n",
    "import math\n",
    "\n",
    "# first find ourself\n",
    "fullBinPath  = os.path.abspath(os.getcwd() + \"/\" + sys.argv[0])\n",
    "fullBasePath = os.path.dirname(os.path.dirname(fullBinPath))\n",
    "fullLibPath  = os.path.join(fullBasePath, \"lib\")\n",
    "fullLibPath='C:\\Users\\Rb\\LabSoftware\\Origin\\lib'\n",
    "fullCfgPath  = os.path.join(fullBasePath, \"config\")\n",
    "fullCfgPath='C:\\Users\\Rb\\LabSoftware\\Origin\\config'\n",
    "sys.path.append(fullLibPath)\n",
    "print fullLibPath\n",
    "from origin.client import server, random_data\n",
    "\n",
    "if len(sys.argv) > 1:\n",
    "  if sys.argv[1] == 'test':\n",
    "    configfile = os.path.join(fullCfgPath, \"origin-server-test.cfg\")\n",
    "  else:\n",
    "    configfile = os.path.join(fullCfgPath, sys.argv[1])\n",
    "else:\n",
    "  configfile = os.path.join(fullCfgPath, \"origin-server.cfg\")\n",
    "\n",
    "import ConfigParser\n",
    "config = ConfigParser.ConfigParser()\n",
    "config.read(configfile)\n",
    "\n",
    "context = zmq.Context()\n",
    "socket = context.socket(zmq.REQ)\n",
    "#host = config.get('Server','ip')\n",
    "host='hexlabmonitor.physics.wisc.edu'\n",
    "\n",
    "#port = config.getint('Server','read_port')\n",
    "port=5561\n",
    "socket.connect(\"tcp://%s:%s\" % (host,port))\n",
    "\n",
    "#stream_test_list = ['ULETrans960']\n",
    "stream_test_list = ['Rb_CoilThermistor']"
   ]
  },
  {
   "cell_type": "code",
   "execution_count": 2,
   "metadata": {
    "collapsed": true,
    "deletable": true,
    "editable": true
   },
   "outputs": [],
   "source": [
    "def RtoT(R):\n",
    "    # Coefficients\n",
    "    [A,B,C]=[0.001125308852122, 0.000234711863267,0.000000085663516]\n",
    "    if R>0:\n",
    "        oneoverT=A+B*math.log(R)+C*math.pow(math.log(R),3)\n",
    "        T=1.0/oneoverT-273.15\n",
    "        return T\n",
    "    else:\n",
    "        return None\n",
    "\n",
    "def dataconditioning(x):\n",
    "    if x<10 and x>0:\n",
    "        return x*10000.0\n",
    "    elif x>0:\n",
    "        return x\n",
    "    else:\n",
    "        return None\n",
    "\n",
    "def to32bit(timestamp):\n",
    "    return float(timestamp)/2**32"
   ]
  },
  {
   "cell_type": "code",
   "execution_count": null,
   "metadata": {
    "collapsed": false,
    "deletable": true,
    "editable": true
   },
   "outputs": [
    {
     "name": "stdout",
     "output_type": "stream",
     "text": [
      "sending raw read request for stream `Rb_CoilThermistor`....\n"
     ]
    }
   ],
   "source": [
    "starttime=time.time()-60*60*24\n",
    "stoptime=time.time()-10 # now\n",
    "for stream in stream_test_list:\n",
    "    print \"sending raw read request for stream `{}`....\".format(stream)\n",
    "    request_obj = { 'start':starttime, 'stop':stoptime,'stream': stream, 'raw': True }\n",
    "    socket.send(json.dumps(request_obj))\n",
    "    response = socket.recv()\n",
    "    print \"Data received\"        "
   ]
  },
  {
   "cell_type": "code",
   "execution_count": null,
   "metadata": {
    "collapsed": false,
    "deletable": true,
    "editable": true
   },
   "outputs": [],
   "source": [
    "dict=json.loads(response)\n",
    "indicator=dict[0]\n",
    "truedata=dict[1]"
   ]
  },
  {
   "cell_type": "code",
   "execution_count": null,
   "metadata": {
    "collapsed": false,
    "deletable": true,
    "editable": true
   },
   "outputs": [],
   "source": [
    "fig=plt.figure(figsize=(10,10))\n",
    "Tdata=numpy.array(map(RtoT,map(dataconditioning,truedata['thermistor'])))\n",
    "timedata=(numpy.array(map(to32bit,truedata['measurement_time']))-time.time())/3600\n",
    "plt.plot(timedata,Tdata)\n",
    "plt.axis([min(timedata),max(timedata),numpy.median(Tdata)-2,numpy.median(Tdata)+2])\n",
    "plt.ylabel('3DMOT Z Coil temperature(C)')\n",
    "plt.xlabel('Hours from current time')\n",
    "plt.show()"
   ]
  },
  {
   "cell_type": "code",
   "execution_count": null,
   "metadata": {
    "collapsed": true,
    "deletable": true,
    "editable": true
   },
   "outputs": [],
   "source": []
  }
 ],
 "metadata": {
  "anaconda-cloud": {},
  "kernelspec": {
   "display_name": "Python 2",
   "language": "python",
   "name": "python2"
  },
  "language_info": {
   "codemirror_mode": {
    "name": "ipython",
    "version": 2
   },
   "file_extension": ".py",
   "mimetype": "text/x-python",
   "name": "python",
   "nbconvert_exporter": "python",
   "pygments_lexer": "ipython2",
   "version": "2.7.11"
  }
 },
 "nbformat": 4,
 "nbformat_minor": 2
}
